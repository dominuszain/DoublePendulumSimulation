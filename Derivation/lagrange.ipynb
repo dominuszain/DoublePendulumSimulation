{
 "cells": [
  {
   "cell_type": "code",
   "execution_count": 93,
   "metadata": {},
   "outputs": [],
   "source": [
    "import sympy as smp"
   ]
  },
  {
   "cell_type": "code",
   "execution_count": 94,
   "metadata": {},
   "outputs": [],
   "source": [
    "l1, l2, t, m1, m2, g = smp.symbols('l1 l2 t m1 m2 g')\n",
    "th1, th2 = smp.symbols('th1 th2', cls=smp.Function)\n",
    "\n",
    "th1 = th1(t)\n",
    "th2 = th2(t)"
   ]
  },
  {
   "cell_type": "code",
   "execution_count": 95,
   "metadata": {},
   "outputs": [],
   "source": [
    "x1 = l1*smp.sin(th1)\n",
    "y1 = -l1*smp.cos(th1)\n",
    "\n",
    "x2 = l1*smp.sin(th1) + l2*smp.sin(th2)\n",
    "y2 = -l1*smp.cos(th1)-l2*smp.cos(th2)"
   ]
  },
  {
   "cell_type": "code",
   "execution_count": 96,
   "metadata": {},
   "outputs": [],
   "source": [
    "V = m1*g*y1 + m2*g*y2\n",
    "V = V.simplify()\n",
    "\n",
    "T = smp.Rational(1, 2)*m1*((smp.diff(x1, t))**2+(smp.diff(y1, t)**2)) + smp.Rational(1, 2)*m2*((smp.diff(x2, t))**2+(smp.diff(y2, t)**2))\n",
    "T = T.simplify()"
   ]
  },
  {
   "cell_type": "code",
   "execution_count": 97,
   "metadata": {},
   "outputs": [],
   "source": [
    "L = T - V"
   ]
  },
  {
   "cell_type": "code",
   "execution_count": 98,
   "metadata": {},
   "outputs": [],
   "source": [
    "dldth1 = smp.diff(L, th1)\n",
    "dldth1dot = smp.diff(L, smp.diff(th1, t))\n",
    "ddt_dldth1dot = smp.diff(dldth1dot, t)\n",
    "eq1 = ddt_dldth1dot - dldth1\n",
    "eq1 = eq1.simplify()"
   ]
  },
  {
   "cell_type": "code",
   "execution_count": 99,
   "metadata": {},
   "outputs": [],
   "source": [
    "dldth2 = smp.diff(L, th2)\n",
    "dldth2dot = smp.diff(L, smp.diff(th2, t))\n",
    "ddt_dldth2dot = smp.diff(dldth2dot, t)\n",
    "eq2 = ddt_dldth2dot - dldth2\n",
    "eq2 = eq2.simplify()\n"
   ]
  }
 ],
 "metadata": {
  "kernelspec": {
   "display_name": "Python 3",
   "language": "python",
   "name": "python3"
  },
  "language_info": {
   "codemirror_mode": {
    "name": "ipython",
    "version": 3
   },
   "file_extension": ".py",
   "mimetype": "text/x-python",
   "name": "python",
   "nbconvert_exporter": "python",
   "pygments_lexer": "ipython3",
   "version": "3.10.7"
  }
 },
 "nbformat": 4,
 "nbformat_minor": 2
}
